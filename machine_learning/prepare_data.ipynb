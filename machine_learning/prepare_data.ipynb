{
 "cells": [
  {
   "cell_type": "code",
   "execution_count": null,
   "id": "initial_id",
   "metadata": {
    "collapsed": true
   },
   "outputs": [],
   "source": [
    "from TopOpt import TopOpt\n",
    "from modes import *\n",
    "import numpy as np\n",
    "import matplotlib.pyplot as plt\n",
    "import seaborn as sns\n",
    "from generate_input import generate_input\n",
    "import os\n",
    "import csv"
   ]
  },
  {
   "cell_type": "code",
   "outputs": [],
   "source": [
    "def save_plot(ux, uy, u, c, save_path):\n",
    "    titles = ['Abs. Displacement X', 'Abs. Displacement Y', 'Absolute Displacement', 'Compliance']\n",
    "\n",
    "    fig, ax = plt.subplots(2, 2, figsize=(6, 6))\n",
    "    for i, (data, title) in enumerate(zip([np.abs(ux), np.abs(uy), u, c], titles)):\n",
    "        sns.heatmap(data, ax=ax[i // 2, i % 2], square=True, cmap='viridis', cbar=False,\n",
    "                    robust=True, xticklabels=False, yticklabels=False).invert_yaxis()\n",
    "        ax[i // 2, i % 2].set_title(title)\n",
    "\n",
    "    fig.savefig(save_path)"
   ],
   "metadata": {
    "collapsed": false
   },
   "id": "9a6546d7088a95b5"
  },
  {
   "cell_type": "code",
   "outputs": [],
   "source": [
    "def save_data(save_path, ux, uy, u, c):\n",
    "    np.save(arr=ux, file=save_path + '-X')\n",
    "    np.save(arr=uy, file=save_path + '-Y')\n",
    "    np.save(arr=u, file=save_path + '-U')\n",
    "    np.save(arr=c, file=save_path + '-C')\n",
    "    save_plot(ux, uy, np.sqrt(ux ** 2 + uy ** 2), c, save_path + '-inputs.png')\n",
    "    np.savetxt(save_path + '-inputs.csv', X=['InputsCode,Penalty,Radius,VolFrac'], fmt='%s', delimiter=',')"
   ],
   "metadata": {
    "collapsed": false
   },
   "id": "7f3f7457ec746827"
  },
  {
   "cell_type": "code",
   "outputs": [],
   "source": [
    "def run(output_path='data'):\n",
    "    counter = 0\n",
    "    for bc_code, bc in bcs.items():\n",
    "        bc_path = output_path + '/' + bc_code\n",
    "        if not os.path.exists(bc_path): os.mkdir(bc_path)\n",
    "        for load_code, load in loads.items():\n",
    "            load_path = bc_path + '/' + load_code\n",
    "            if not os.path.exists(load_path): os.mkdir(load_path)\n",
    "            for penal in ps:\n",
    "                for r in rs:\n",
    "                    for vf in vfs:\n",
    "                        counter += 1\n",
    "                        code = f'{bc_code}-{load_code}-P{penal}-R{r:0.3f}-V{vf:0.3f}'\n",
    "                        print(f'Starting run {counter:06}: {code}')\n",
    "                        print(f'BC={bc_code}, Load={load_code}, P={penal}, R={r:0.3f}, VF={vf:0.3f}')\n",
    "\n",
    "                        if not os.path.exists(load_path + '/output/' + code + '.npy'):\n",
    "                            optimizer = TopOpt(*generate_input(r, penal, vf, bc + load),\n",
    "                                               lambda loop, xx, x_ch, c_ch, cc, ww:\n",
    "                                               print(f'{loop:03}' + ' ' * 13 +\n",
    "                                                     f'{x_ch:<16.6f}{c_ch:<16.6f}{cc:<16.4E}{100 * ww:<0.2f}%'))\n",
    "\n",
    "                            if not os.path.exists(load_path + '/output'):\n",
    "                                initial_u = optimizer.fem.solve(np.ones(optimizer.mesh['shape']).flatten(order='F'))\n",
    "                                ux = initial_u[range(0, 2 * 401 * 401, 2)].reshape((401, 401), order='F')\n",
    "                                uy = initial_u[range(1, 2 * 401 * 401, 2)].reshape((401, 401), order='F')\n",
    "                                c = np.sum((initial_u[optimizer.mesh['c_mat']] @ optimizer.fem.k) *\n",
    "                                           initial_u[optimizer.mesh['c_mat']], 1).reshape((400, 400), order='F')\n",
    "\n",
    "                                save_data(load_path + '/' + bc_code + load_code, ux, uy, np.hypot(ux, uy), c)\n",
    "                                os.mkdir(load_path + '/output')\n",
    "\n",
    "                            optimizer.optimize()\n",
    "                            output = optimizer.x\n",
    "                            np.save(arr=output, file=load_path + '/output/' + code)\n",
    "\n",
    "                            with open(load_path + '/' + bc_code + load_code + '-inputs.csv', 'a', newline='') as file:\n",
    "                                writer = csv.writer(file, delimiter=',')\n",
    "                                writer.writerow([code, penal, r, vf])\n",
    "\n",
    "                            fig = plt.figure(figsize=(8, 8))\n",
    "                            sns.heatmap(1 - output, vmin=0, vmax=1, square=True, cmap='gray', cbar=False,\n",
    "                                        xticklabels=False, yticklabels=False).invert_yaxis()\n",
    "                            plt.title(f'BC={bc_code}, Load={load_code}, P={penal}, R={r:0.3f}, VF={vf:0.3f}')\n",
    "                            fig.savefig(load_path + '/output/' + code + '.png')\n",
    "\n",
    "                        else: print('Already exists')"
   ],
   "metadata": {
    "collapsed": false
   },
   "id": "9a3c5d90c4a10201"
  },
  {
   "cell_type": "code",
   "outputs": [],
   "source": [
    "run()"
   ],
   "metadata": {
    "collapsed": false
   },
   "id": "2683889aa814b59f"
  }
 ],
 "metadata": {
  "kernelspec": {
   "display_name": "Python 3",
   "language": "python",
   "name": "python3"
  },
  "language_info": {
   "codemirror_mode": {
    "name": "ipython",
    "version": 2
   },
   "file_extension": ".py",
   "mimetype": "text/x-python",
   "name": "python",
   "nbconvert_exporter": "python",
   "pygments_lexer": "ipython2",
   "version": "2.7.6"
  }
 },
 "nbformat": 4,
 "nbformat_minor": 5
}
