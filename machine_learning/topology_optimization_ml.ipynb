{
 "cells": [
  {
   "cell_type": "code",
   "outputs": [],
   "source": [
    "from modes import *\n",
    "import numpy as np\n",
    "import os\n",
    "import tensorflow as tf\n",
    "from keras.models import Sequential\n",
    "from keras.layers import Conv2D, UpSampling2D"
   ],
   "metadata": {
    "collapsed": false,
    "ExecuteTime": {
     "end_time": "2024-02-01T15:52:39.520255200Z",
     "start_time": "2024-02-01T15:52:18.744723100Z"
    }
   },
   "id": "21d8c7654a3d5f7e",
   "execution_count": 1
  },
  {
   "cell_type": "code",
   "execution_count": 2,
   "id": "initial_id",
   "metadata": {
    "collapsed": true,
    "ExecuteTime": {
     "end_time": "2024-02-01T15:52:40.076941600Z",
     "start_time": "2024-02-01T15:52:39.528506100Z"
    }
   },
   "outputs": [
    {
     "name": "stdout",
     "output_type": "stream",
     "text": [
      "Model: \"sequential\"\n",
      "_________________________________________________________________\n",
      " Layer (type)                Output Shape              Param #   \n",
      "=================================================================\n",
      " conv2d (Conv2D)             (None, 201, 201, 64)      4096      \n",
      "                                                                 \n",
      " conv2d_1 (Conv2D)           (None, 201, 201, 128)     73856     \n",
      "                                                                 \n",
      " conv2d_2 (Conv2D)           (None, 201, 201, 128)     147584    \n",
      "                                                                 \n",
      " conv2d_3 (Conv2D)           (None, 100, 100, 64)      73792     \n",
      "                                                                 \n",
      " conv2d_4 (Conv2D)           (None, 100, 100, 1)       577       \n",
      "                                                                 \n",
      " up_sampling2d (UpSampling2D  (None, 200, 200, 1)      0         \n",
      " )                                                               \n",
      "                                                                 \n",
      "=================================================================\n",
      "Total params: 299,905\n",
      "Trainable params: 299,905\n",
      "Non-trainable params: 0\n",
      "_________________________________________________________________\n"
     ]
    }
   ],
   "source": [
    "model = Sequential()\n",
    "model.add(Conv2D(64, kernel_size=(3, 3), padding='same', activation='relu', input_shape=(201, 201, 7)))\n",
    "model.add(Conv2D(128, kernel_size=(3, 3), padding='same', activation='relu'))\n",
    "model.add(Conv2D(128, kernel_size=(3, 3), padding='same', activation='relu'))\n",
    "model.add(Conv2D(64, kernel_size=(3, 3), strides=2, activation='relu'))\n",
    "model.add(Conv2D(1, kernel_size=(3, 3), padding='same', activation='sigmoid'))\n",
    "model.add(UpSampling2D(size=(2, 2)))\n",
    "model.summary()"
   ]
  },
  {
   "cell_type": "code",
   "outputs": [],
   "source": [
    "def load_data(bc_code, load_code, penal, r, vf):\n",
    "    bc_code, load_code, penal, r, vf = [param.numpy() for param in (bc_code, load_code, penal, r, vf)]\n",
    "    bc_code, load_code = bc_code.decode('utf-8'), load_code.decode('utf-8')\n",
    "    load_path = 'data/' + bc_code + '/' + load_code + '/'\n",
    "    code = f'{bc_code}-{load_code}-P{penal}-R{r:0.3f}-V{vf:0.3f}'\n",
    "\n",
    "    c = np.load(load_path + bc_code + load_code + '-C.npy')\n",
    "    ux = np.load(load_path + bc_code + load_code + '-X.npy')\n",
    "    uy = np.load(load_path + bc_code + load_code + '-Y.npy')\n",
    "\n",
    "    x = np.ones((201, 201, 7), dtype=np.float32)\n",
    "    x[:, :, 0] = ux\n",
    "    x[:, :, 1] = uy\n",
    "    x[:, :, 2] = np.hypot(ux, uy)\n",
    "    x[:, :, 3] = np.pad(c, pad_width=1, mode='edge')[0:-1, 0:-1]\n",
    "    x[:, :, 4], x[:, :, 5], x[:, :, 6] = penal, r, vf\n",
    "    y = np.load(load_path + 'output/' + code + '.npy').astype(np.float32)\n",
    "\n",
    "    return x, y"
   ],
   "metadata": {
    "collapsed": false,
    "ExecuteTime": {
     "end_time": "2024-02-01T15:52:43.072103800Z",
     "start_time": "2024-02-01T15:52:43.048161100Z"
    }
   },
   "id": "aa6741a0f406e7ea",
   "execution_count": 3
  },
  {
   "cell_type": "code",
   "outputs": [],
   "source": [
    "def general_function(bc_code, load_code, penal, r, vf):\n",
    "    x, y = tf.py_function(load_data, (bc_code, load_code, penal, r, vf), (tf.float32, tf.float32))\n",
    "    x.set_shape(tf.TensorShape([201, 201, 7]))\n",
    "    y.set_shape(tf.TensorShape([200, 200]))\n",
    "    return x, y"
   ],
   "metadata": {
    "collapsed": false,
    "ExecuteTime": {
     "end_time": "2024-02-01T15:52:43.917897900Z",
     "start_time": "2024-02-01T15:52:43.895956400Z"
    }
   },
   "id": "f9e0e3ef7a5180b9",
   "execution_count": 4
  },
  {
   "cell_type": "code",
   "outputs": [],
   "source": [
    "parameters = [(b, l, p, r, v) for b in list(bcs.keys()) for l in list(loads.keys())\n",
    "              for p in ps for r in rs for v in vfs]\n",
    "np.random.shuffle(parameters)\n",
    "parameters = tuple(np.array(item) for item in zip(*parameters))"
   ],
   "metadata": {
    "collapsed": false,
    "ExecuteTime": {
     "end_time": "2024-02-01T15:52:45.872453500Z",
     "start_time": "2024-02-01T15:52:44.510277100Z"
    }
   },
   "id": "9a5f23d4dc5d50ad",
   "execution_count": 5
  },
  {
   "cell_type": "code",
   "outputs": [],
   "source": [
    "def filter_function(bc_code, load_code, penal, r, vf):\n",
    "    bc_code, load_code, penal, r, vf = [param.numpy() for param in (bc_code, load_code, penal, r, vf)]\n",
    "    bc_code, load_code = bc_code.decode('utf-8'), load_code.decode('utf-8')\n",
    "    load_path = 'data/' + bc_code + '/' + load_code + '/'\n",
    "    code = f'{bc_code}-{load_code}-P{penal}-R{r:0.3f}-V{vf:0.3f}'\n",
    "    y_path = load_path + 'output/' + code + '.npy'\n",
    "    c_path = load_path + bc_code + load_code + '-C.npy'\n",
    "    return os.path.exists(y_path) and np.load(c_path).any()"
   ],
   "metadata": {
    "collapsed": false,
    "ExecuteTime": {
     "end_time": "2024-02-01T15:52:46.673141900Z",
     "start_time": "2024-02-01T15:52:46.661175900Z"
    }
   },
   "id": "b608024c20731a09",
   "execution_count": 6
  },
  {
   "cell_type": "code",
   "outputs": [],
   "source": [
    "dataset = tf.data.Dataset.from_tensor_slices(parameters)\n",
    "dataset = dataset.filter(lambda b, l, p, r, v: tf.py_function(filter_function, (b, l, p, r, v), tf.bool))\n",
    "dataset = dataset.map(lambda b, l, p, r, v: general_function(b, l, p, r, v))\n",
    "dataset = dataset.batch(25)"
   ],
   "metadata": {
    "collapsed": false,
    "ExecuteTime": {
     "end_time": "2024-02-01T15:52:48.657245700Z",
     "start_time": "2024-02-01T15:52:47.980628700Z"
    }
   },
   "id": "2ec89d6a25d3adb1",
   "execution_count": 7
  },
  {
   "cell_type": "code",
   "outputs": [
    {
     "name": "stdout",
     "output_type": "stream",
     "text": [
      "   4355/Unknown - 59816s 14s/step - loss: 0.1993 - accuracy: 0.6207"
     ]
    }
   ],
   "source": [
    "model.compile(optimizer='adam', loss='mean_squared_error', metrics=['accuracy'])\n",
    "model.fit(dataset, epochs=1, batch_size=25)"
   ],
   "metadata": {
    "collapsed": false,
    "is_executing": true,
    "ExecuteTime": {
     "start_time": "2024-02-01T15:52:50.087457600Z"
    }
   },
   "id": "6358e504f134e1e7"
  },
  {
   "cell_type": "code",
   "outputs": [],
   "source": [],
   "metadata": {
    "collapsed": false
   },
   "id": "1facdfc9bfea61a5"
  }
 ],
 "metadata": {
  "kernelspec": {
   "display_name": "Python 3",
   "language": "python",
   "name": "python3"
  },
  "language_info": {
   "codemirror_mode": {
    "name": "ipython",
    "version": 2
   },
   "file_extension": ".py",
   "mimetype": "text/x-python",
   "name": "python",
   "nbconvert_exporter": "python",
   "pygments_lexer": "ipython2",
   "version": "2.7.6"
  }
 },
 "nbformat": 4,
 "nbformat_minor": 5
}
