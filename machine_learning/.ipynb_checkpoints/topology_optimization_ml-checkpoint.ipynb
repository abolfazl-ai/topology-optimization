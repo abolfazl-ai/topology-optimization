{
 "cells": [
  {
   "cell_type": "code",
   "outputs": [],
   "source": [
    "from modes import *\n",
    "import numpy as np\n",
    "import os\n",
    "import tensorflow as tf\n",
    "from tensorflow.keras.models import Model\n",
    "from keras.layers import Conv2D, MaxPooling2D, Flatten, Dense, Input, Concatenate, Reshape"
   ],
   "metadata": {
    "collapsed": false,
    "ExecuteTime": {
     "end_time": "2024-02-02T16:32:49.819848800Z",
     "start_time": "2024-02-02T16:32:22.316330400Z"
    }
   },
   "id": "21d8c7654a3d5f7e",
   "execution_count": 1
  },
  {
   "cell_type": "code",
   "execution_count": 2,
   "id": "initial_id",
   "metadata": {
    "collapsed": true,
    "ExecuteTime": {
     "end_time": "2024-02-02T12:35:16.461201300Z",
     "start_time": "2024-02-02T12:35:16.204454900Z"
    }
   },
   "outputs": [
    {
     "name": "stdout",
     "output_type": "stream",
     "text": [
      "Model: \"model\"\n",
      "__________________________________________________________________________________________________\n",
      " Layer (type)                   Output Shape         Param #     Connected to                     \n",
      "==================================================================================================\n",
      " input_2 (InputLayer)           [(None, 201, 201, 4  0           []                               \n",
      "                                )]                                                                \n",
      "                                                                                                  \n",
      " conv2d (Conv2D)                (None, 198, 198, 16  1040        ['input_2[0][0]']                \n",
      "                                )                                                                 \n",
      "                                                                                                  \n",
      " max_pooling2d (MaxPooling2D)   (None, 99, 99, 16)   0           ['conv2d[0][0]']                 \n",
      "                                                                                                  \n",
      " conv2d_1 (Conv2D)              (None, 97, 97, 32)   4640        ['max_pooling2d[0][0]']          \n",
      "                                                                                                  \n",
      " max_pooling2d_1 (MaxPooling2D)  (None, 48, 48, 32)  0           ['conv2d_1[0][0]']               \n",
      "                                                                                                  \n",
      " conv2d_2 (Conv2D)              (None, 46, 46, 32)   9248        ['max_pooling2d_1[0][0]']        \n",
      "                                                                                                  \n",
      " flatten (Flatten)              (None, 67712)        0           ['conv2d_2[0][0]']               \n",
      "                                                                                                  \n",
      " input_1 (InputLayer)           [(None, 3)]          0           []                               \n",
      "                                                                                                  \n",
      " concatenate (Concatenate)      (None, 67715)        0           ['flatten[0][0]',                \n",
      "                                                                  'input_1[0][0]']                \n",
      "                                                                                                  \n",
      " flatten_1 (Flatten)            (None, 67715)        0           ['concatenate[0][0]']            \n",
      "                                                                                                  \n",
      " dense (Dense)                  (None, 64)           4333824     ['flatten_1[0][0]']              \n",
      "                                                                                                  \n",
      " dense_1 (Dense)                (None, 128)          8320        ['dense[0][0]']                  \n",
      "                                                                                                  \n",
      " dense_2 (Dense)                (None, 40000)        5160000     ['dense_1[0][0]']                \n",
      "                                                                                                  \n",
      " reshape (Reshape)              (None, 200, 200)     0           ['dense_2[0][0]']                \n",
      "                                                                                                  \n",
      "==================================================================================================\n",
      "Total params: 9,517,072\n",
      "Trainable params: 9,517,072\n",
      "Non-trainable params: 0\n",
      "__________________________________________________________________________________________________\n"
     ]
    }
   ],
   "source": [
    "input_layer_1d = Input(shape=(3, ))\n",
    "input_layer_2d = Input(shape=(201, 201, 4))\n",
    "\n",
    "conv1 = Conv2D(16, kernel_size=(5, 5), activation='relu')(input_layer_2d)\n",
    "pool1 = MaxPooling2D(pool_size=(2, 2))(conv1)\n",
    "conv2 = Conv2D(32, kernel_size=(3, 3), activation='relu')(pool1)\n",
    "pool2 = MaxPooling2D(pool_size=(2, 2))(conv2)\n",
    "conv3 = Conv2D(32, kernel_size=(3, 3), activation='relu')(pool2)\n",
    "flat1 = Flatten()(conv3)\n",
    "merge = Concatenate()([flat1, input_layer_1d])\n",
    "flat2 = Flatten()(merge)\n",
    "dense1 = Dense(64, activation='tanh')(flat2)\n",
    "dense2 = Dense(128, activation='relu')(dense1)\n",
    "dense3 = Dense(200 * 200, activation='sigmoid')(dense2)\n",
    "output = Reshape((200, 200))(dense3)\n",
    "\n",
    "model = Model(inputs=[input_layer_1d, input_layer_2d], outputs=output)\n",
    "model.summary()"
   ]
  },
  {
   "cell_type": "code",
   "outputs": [],
   "source": [
    "def load_data(bc_code, load_code, penal, r, vf):\n",
    "    bc_code, load_code, penal, r, vf = [param.numpy() for param in (bc_code, load_code, penal, r, vf)]\n",
    "    bc_code, load_code = bc_code.decode('utf-8'), load_code.decode('utf-8')\n",
    "    load_path = 'data/' + bc_code + '/' + load_code + '/'\n",
    "    code = f'{bc_code}-{load_code}-P{penal}-R{r:0.3f}-V{vf:0.3f}'\n",
    "\n",
    "    c = np.load(load_path + bc_code + load_code + '-C.npy')\n",
    "    ux = np.load(load_path + bc_code + load_code + '-X.npy')\n",
    "    uy = np.load(load_path + bc_code + load_code + '-Y.npy')\n",
    "\n",
    "    input_2d = np.ones((201, 201, 4), dtype=np.float32)\n",
    "    input_2d[:, :, 0] = ux\n",
    "    input_2d[:, :, 1] = uy\n",
    "    input_2d[:, :, 2] = np.hypot(ux, uy)\n",
    "    input_2d[:, :, 3] = np.pad(c, pad_width=1, mode='edge')[0:-1, 0:-1]\n",
    "\n",
    "    y = np.load(load_path + 'output/' + code + '.npy').astype(np.float32)\n",
    "\n",
    "    return np.array((penal, r, vf)), input_2d, y"
   ],
   "metadata": {
    "collapsed": false,
    "ExecuteTime": {
     "end_time": "2024-02-02T12:35:16.462198Z",
     "start_time": "2024-02-02T12:35:16.456243500Z"
    }
   },
   "id": "aa6741a0f406e7ea",
   "execution_count": 3
  },
  {
   "cell_type": "code",
   "outputs": [],
   "source": [
    "def general_function(bc_code, load_code, penal, r, vf):\n",
    "    input_1d, input_2d, y = tf.py_function(load_data, (bc_code, load_code, penal, r, vf),\n",
    "                                           (tf.float32, tf.float32, tf.float32))\n",
    "    input_1d.set_shape(tf.TensorShape([3, ]))\n",
    "    input_2d.set_shape(tf.TensorShape([201, 201, 4]))\n",
    "    y.set_shape(tf.TensorShape([200, 200]))\n",
    "    return (input_1d, input_2d), y"
   ],
   "metadata": {
    "collapsed": false,
    "ExecuteTime": {
     "end_time": "2024-02-02T12:35:16.491137200Z",
     "start_time": "2024-02-02T12:35:16.488158500Z"
    }
   },
   "id": "f9e0e3ef7a5180b9",
   "execution_count": 4
  },
  {
   "cell_type": "code",
   "outputs": [],
   "source": [
    "parameters = [(b, l, p, r, v) for b in list(bcs.keys()) for l in list(loads.keys())\n",
    "              for p in ps for r in rs for v in vfs]\n",
    "np.random.shuffle(parameters)\n",
    "parameters = tuple(np.array(item) for item in zip(*parameters))"
   ],
   "metadata": {
    "collapsed": false,
    "ExecuteTime": {
     "end_time": "2024-02-02T12:35:17.134410500Z",
     "start_time": "2024-02-02T12:35:16.493118900Z"
    }
   },
   "id": "9a5f23d4dc5d50ad",
   "execution_count": 5
  },
  {
   "cell_type": "code",
   "outputs": [],
   "source": [
    "def filter_function(bc_code, load_code, penal, r, vf):\n",
    "    bc_code, load_code, penal, r, vf = [param.numpy() for param in (bc_code, load_code, penal, r, vf)]\n",
    "    bc_code, load_code = bc_code.decode('utf-8'), load_code.decode('utf-8')\n",
    "    load_path = 'data/' + bc_code + '/' + load_code + '/'\n",
    "    code = f'{bc_code}-{load_code}-P{penal}-R{r:0.3f}-V{vf:0.3f}'\n",
    "    y_path = load_path + 'output/' + code + '.npy'\n",
    "    c_path = load_path + bc_code + load_code + '-C.npy'\n",
    "    return os.path.exists(y_path) and np.load(c_path).any()"
   ],
   "metadata": {
    "collapsed": false,
    "ExecuteTime": {
     "end_time": "2024-02-02T12:35:17.153431900Z",
     "start_time": "2024-02-02T12:35:17.138403300Z"
    }
   },
   "id": "b608024c20731a09",
   "execution_count": 6
  },
  {
   "cell_type": "code",
   "outputs": [],
   "source": [
    "dataset = tf.data.Dataset.from_tensor_slices(parameters)\n",
    "dataset = dataset.filter(lambda b, l, p, r, v: tf.py_function(filter_function, (b, l, p, r, v), tf.bool))\n",
    "dataset = dataset.map(lambda b, l, p, r, v: general_function(b, l, p, r, v))\n",
    "dataset = dataset.batch(25)"
   ],
   "metadata": {
    "collapsed": false,
    "ExecuteTime": {
     "end_time": "2024-02-02T12:35:17.355587900Z",
     "start_time": "2024-02-02T12:35:17.154427300Z"
    }
   },
   "id": "2ec89d6a25d3adb1",
   "execution_count": 7
  },
  {
   "cell_type": "code",
   "outputs": [
    {
     "name": "stdout",
     "output_type": "stream",
     "text": [
      "Epoch 1/20\n",
      "5313/5313 [==============================] - 7074s 1s/step - loss: 0.1250 - accuracy: 0.0149\n",
      "Epoch 2/20\n",
      "5313/5313 [==============================] - 6908s 1s/step - loss: 0.1040 - accuracy: 0.0201\n",
      "Epoch 3/20\n",
      " 142/5313 [..............................] - ETA: 1:56:35 - loss: 0.1013 - accuracy: 0.0197"
     ]
    }
   ],
   "source": [
    "model.compile(optimizer='adam', loss='mean_squared_error', metrics=['accuracy'])\n",
    "model.fit(dataset, epochs=20, batch_size=25)"
   ],
   "metadata": {
    "collapsed": false,
    "ExecuteTime": {
     "start_time": "2024-02-02T12:35:17.362569200Z"
    }
   },
   "id": "6358e504f134e1e7",
   "execution_count": null
  },
  {
   "cell_type": "code",
   "outputs": [],
   "source": [],
   "metadata": {
    "collapsed": false
   },
   "id": "1facdfc9bfea61a5"
  }
 ],
 "metadata": {
  "kernelspec": {
   "display_name": "Python 3",
   "language": "python",
   "name": "python3"
  },
  "language_info": {
   "codemirror_mode": {
    "name": "ipython",
    "version": 2
   },
   "file_extension": ".py",
   "mimetype": "text/x-python",
   "name": "python",
   "nbconvert_exporter": "python",
   "pygments_lexer": "ipython2",
   "version": "2.7.6"
  }
 },
 "nbformat": 4,
 "nbformat_minor": 5
}
